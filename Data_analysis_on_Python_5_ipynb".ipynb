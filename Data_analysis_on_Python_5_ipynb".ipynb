{
  "nbformat": 4,
  "nbformat_minor": 0,
  "metadata": {
    "colab": {
      "provenance": []
    },
    "kernelspec": {
      "name": "python3",
      "display_name": "Python 3"
    },
    "language_info": {
      "name": "python"
    }
  },
  "cells": [
    {
      "cell_type": "code",
      "execution_count": null,
      "metadata": {
        "id": "5XK3ndJO5ZP7"
      },
      "outputs": [],
      "source": [
        "import numpy as np\n",
        "import pandas as pd\n",
        "\n",
        "from scipy.stats import norm, chi2_contingency\n",
        "import statsmodels.api as sm"
      ]
    },
    {
      "cell_type": "markdown",
      "source": [
        "Разобраться, влияет ли то, кто из соперников подавал, на результаты Надаля.\n",
        "Если да, как именно\n"
      ],
      "metadata": {
        "id": "ntfsufQY-LQZ"
      }
    },
    {
      "cell_type": "markdown",
      "source": [
        "Мы имеем 3 таблицы: таблица по подаче, таблица по приему и общая таблица."
      ],
      "metadata": {
        "id": "rDAi24JT-Qlg"
      }
    },
    {
      "cell_type": "markdown",
      "source": [
        "![image.png](data:image/png;base64,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)"
      ],
      "metadata": {
        "id": "eQMpC9qfBSqD"
      }
    },
    {
      "cell_type": "code",
      "source": [
        "# Результаты Надаля на глиняных и других кортах — геймы, в которых он подавал\n",
        "#                  WIN   LOSS    TOTAL\n",
        "#         Clay     1090   171    1261\n",
        "# Surface Nonclay  2747   446    3193\n",
        "#         Total    3837   617    4454"
      ],
      "metadata": {
        "id": "u523eA0p9zsS"
      },
      "execution_count": null,
      "outputs": []
    },
    {
      "cell_type": "code",
      "source": [
        "# Результаты Надаля на глиняных и других кортах — геймы, в которых он принимал подачу\n",
        "#                    WIN   LOSS     TOTAL\n",
        "#            Clay    570   692      1262\n",
        "# Surface    Nonclay 911   2269     3180\n",
        "#            Total   1481  2961     4442"
      ],
      "metadata": {
        "id": "jXW1V0of-dcp"
      },
      "execution_count": null,
      "outputs": []
    },
    {
      "cell_type": "markdown",
      "source": [
        "Получим 2*2 таблицу.\n",
        "\n",
        "столбцы - победа и проигрыш\n",
        "\n",
        "строки - подача и прием."
      ],
      "metadata": {
        "id": "NwfRfFeM-1P2"
      }
    },
    {
      "cell_type": "code",
      "source": [
        "#          WIN     LOSS     TOTAL\n",
        "#Подавал   1481     2961     4442\n",
        "#Принимал  3837     617      4454"
      ],
      "metadata": {
        "id": "m4kD7lOn_BDA"
      },
      "execution_count": null,
      "outputs": []
    },
    {
      "cell_type": "code",
      "source": [
        "print('Доля случаев, когда Надаль выигрывает подающим', 1481/4442)"
      ],
      "metadata": {
        "colab": {
          "base_uri": "https://localhost:8080/"
        },
        "id": "TO4cVQMoHo0j",
        "outputId": "9e2deebb-80ec-4ed9-bbff-7a4bb7524d26"
      },
      "execution_count": null,
      "outputs": [
        {
          "output_type": "stream",
          "name": "stdout",
          "text": [
            "Доля случаев, когда Надаль выигрывает подающим 0.33340837460603334\n"
          ]
        }
      ]
    },
    {
      "cell_type": "code",
      "source": [
        "print('Доля случаев, когда Надаль проигрывает подающим', 2961/4442)"
      ],
      "metadata": {
        "colab": {
          "base_uri": "https://localhost:8080/"
        },
        "id": "i75zMbN2CBUZ",
        "outputId": "64999407-b329-4a45-b8dd-6325181c8944"
      },
      "execution_count": null,
      "outputs": [
        {
          "output_type": "stream",
          "name": "stdout",
          "text": [
            "Доля случаев, когда Надаль проигрывает подающим 0.6665916253939667\n"
          ]
        }
      ]
    },
    {
      "cell_type": "code",
      "source": [
        "print('Доля случаев, когда Надаль выигрывает принимающим', 3837/4454)"
      ],
      "metadata": {
        "colab": {
          "base_uri": "https://localhost:8080/"
        },
        "id": "8t3eCv_BHztM",
        "outputId": "df73b23a-e5be-424d-ebf0-34b8bb3e688d"
      },
      "execution_count": null,
      "outputs": [
        {
          "output_type": "stream",
          "name": "stdout",
          "text": [
            "Доля случаев, когда Надаль выигрывает принимающим 0.8614728334081724\n"
          ]
        }
      ]
    },
    {
      "cell_type": "code",
      "source": [
        "print('Доля случаев, когда Надаль проигрывает принимающим', 617/4454)"
      ],
      "metadata": {
        "colab": {
          "base_uri": "https://localhost:8080/"
        },
        "id": "yovmAYvDCMWN",
        "outputId": "ad48b097-97b5-4aa1-f3b5-c3096a65b7fe"
      },
      "execution_count": null,
      "outputs": [
        {
          "output_type": "stream",
          "name": "stdout",
          "text": [
            "Доля случаев, когда Надаль проигрывает принимающим 0.13852716659182757\n"
          ]
        }
      ]
    },
    {
      "cell_type": "markdown",
      "source": [
        "Вопрос: Верно ли, что результаты Надаля на кортах с глиняным покрытием выше, чем на других\n",
        "покрытиях?"
      ],
      "metadata": {
        "id": "tVJ_gk8PCxJ7"
      }
    },
    {
      "cell_type": "markdown",
      "source": [
        "Гипотеза 0: доли выигрыша равны"
      ],
      "metadata": {
        "id": "lEimheSqITYJ"
      }
    },
    {
      "cell_type": "markdown",
      "source": [
        "H0: $\\mu = M$<br>\n",
        "H1: $\\mu \\ne M$<br>"
      ],
      "metadata": {
        "id": "tWt0rjcRI8sI"
      }
    },
    {
      "cell_type": "markdown",
      "source": [
        "выборка А - продает\n",
        "\n",
        "выборка И - подает"
      ],
      "metadata": {
        "id": "dRtyuXeb6rbg"
      }
    },
    {
      "cell_type": "code",
      "source": [
        "#   Версия 1. Прямые вычисления\n",
        "\n",
        "s1 = 1481 #  число успехов     выборка А\n",
        "n1 = 4442 #  число испытаний   выборка А\n",
        "s2 = 3837 #  число успехов     выборка Б\n",
        "n2 = 4454 #  число испытаний   выборка Б\n",
        "p1 = s1/n1            #  оценка вероятности успеха выборка А\n",
        "p2 = s2/n2            #  оценка вероятности успеха выборка Б\n",
        "p = (s1 + s2)/(n1+n2) #  оценка вероятности успеха выборка А+Б\n",
        "z = (p2-p1)/ ((p*(1-p)*((1/n1)+(1/n2)))**0.5)     #  z-метка\n",
        "\n",
        "p_value = norm.cdf(-abs(z))\n",
        "\n",
        "#  z-метка и p-значение\n",
        "print(['{:.12f}'.format(a) for a in (abs(z), p_value * 2)])"
      ],
      "metadata": {
        "colab": {
          "base_uri": "https://localhost:8080/"
        },
        "id": "i_GM7CGj5gC5",
        "outputId": "588cfe59-ccce-42af-ac28-d3a994ea83cc"
      },
      "execution_count": null,
      "outputs": [
        {
          "output_type": "stream",
          "name": "stdout",
          "text": [
            "['50.787212211865', '0.000000000000']\n"
          ]
        }
      ]
    },
    {
      "cell_type": "code",
      "source": [
        "#   Версия 2. Используем  proportions_ztest\n",
        "\n",
        "z1, p_value1 = sm.stats.proportions_ztest([s1, s2], [n1, n2])\n",
        "\n",
        "print(['{:.12f}'.format(b) for b in (z1, p_value1)])"
      ],
      "metadata": {
        "colab": {
          "base_uri": "https://localhost:8080/"
        },
        "id": "cmmzomzN5i_J",
        "outputId": "4f39b22b-f274-4b92-9a68-0dc771efeb1c"
      },
      "execution_count": null,
      "outputs": [
        {
          "output_type": "stream",
          "name": "stdout",
          "text": [
            "['-50.787212211865', '0.000000000000']\n"
          ]
        }
      ]
    },
    {
      "cell_type": "code",
      "source": [
        "#   Версия 3. Используем  chi2_contingency\n",
        "\n",
        "arr = np.array([[s1, n1-s1], [s2, n2-s2]])\n",
        "chi2, p_value3, dof, exp = chi2_contingency(arr, correction=False)\n",
        "\n",
        "print(['{:.12f}'.format(d) for d in (chi2**0.5, p_value3)])"
      ],
      "metadata": {
        "colab": {
          "base_uri": "https://localhost:8080/"
        },
        "id": "Y6Saj7pW5kqX",
        "outputId": "a1510f5b-dc6c-4787-92e0-f340bd35d560"
      },
      "execution_count": null,
      "outputs": [
        {
          "output_type": "stream",
          "name": "stdout",
          "text": [
            "['50.787212211865', '0.000000000000']\n"
          ]
        }
      ]
    },
    {
      "cell_type": "markdown",
      "source": [
        "Все решения дают один и тот же ответ! p-value < 0.05"
      ],
      "metadata": {
        "id": "3VhT6-B6TIM5"
      }
    },
    {
      "cell_type": "markdown",
      "source": [
        "Нулевую гипотезу отвергаем"
      ],
      "metadata": {
        "id": "Fcc02Xo6Db3n"
      }
    }
  ]
}